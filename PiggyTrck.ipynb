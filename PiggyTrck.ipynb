{
 "cells": [
  {
   "cell_type": "code",
   "execution_count": 1,
   "metadata": {},
   "outputs": [
    {
     "name": "stdout",
     "output_type": "stream",
     "text": [
      "Hi\n"
     ]
    }
   ],
   "source": [
    "print(\"Hi\")"
   ]
  },
  {
   "cell_type": "code",
   "execution_count": 4,
   "metadata": {},
   "outputs": [
    {
     "name": "stdout",
     "output_type": "stream",
     "text": [
      "zsh:1: command not found: conda\n"
     ]
    }
   ],
   "source": [
    "!conda env"
   ]
  },
  {
   "cell_type": "code",
   "execution_count": null,
   "metadata": {},
   "outputs": [],
   "source": []
  },
  {
   "cell_type": "code",
   "execution_count": null,
   "metadata": {},
   "outputs": [],
   "source": []
  },
  {
   "cell_type": "code",
   "execution_count": null,
   "metadata": {},
   "outputs": [],
   "source": []
  },
  {
   "cell_type": "code",
   "execution_count": null,
   "metadata": {},
   "outputs": [],
   "source": []
  },
  {
   "cell_type": "code",
   "execution_count": null,
   "metadata": {},
   "outputs": [],
   "source": []
  },
  {
   "cell_type": "code",
   "execution_count": null,
   "metadata": {},
   "outputs": [],
   "source": []
  },
  {
   "cell_type": "code",
   "execution_count": null,
   "metadata": {},
   "outputs": [],
   "source": []
  },
  {
   "cell_type": "code",
   "execution_count": null,
   "metadata": {},
   "outputs": [],
   "source": []
  },
  {
   "cell_type": "code",
   "execution_count": 1,
   "metadata": {},
   "outputs": [
    {
     "ename": "ModuleNotFoundError",
     "evalue": "No module named 'pandas'",
     "output_type": "error",
     "traceback": [
      "\u001b[0;31m---------------------------------------------------------------------------\u001b[0m",
      "\u001b[0;31mModuleNotFoundError\u001b[0m                       Traceback (most recent call last)",
      "Cell \u001b[0;32mIn[1], line 2\u001b[0m\n\u001b[1;32m      1\u001b[0m \u001b[38;5;66;03m# Import required libraries\u001b[39;00m\n\u001b[0;32m----> 2\u001b[0m \u001b[38;5;28;01mimport\u001b[39;00m \u001b[38;5;21;01mpandas\u001b[39;00m \u001b[38;5;28;01mas\u001b[39;00m \u001b[38;5;21;01mpd\u001b[39;00m\n\u001b[1;32m      3\u001b[0m \u001b[38;5;28;01mimport\u001b[39;00m \u001b[38;5;21;01mmatplotlib\u001b[39;00m\u001b[38;5;21;01m.\u001b[39;00m\u001b[38;5;21;01mpyplot\u001b[39;00m \u001b[38;5;28;01mas\u001b[39;00m \u001b[38;5;21;01mplt\u001b[39;00m\n\u001b[1;32m      4\u001b[0m \u001b[38;5;28;01mimport\u001b[39;00m \u001b[38;5;21;01mseaborn\u001b[39;00m \u001b[38;5;28;01mas\u001b[39;00m \u001b[38;5;21;01msns\u001b[39;00m\n",
      "\u001b[0;31mModuleNotFoundError\u001b[0m: No module named 'pandas'"
     ]
    }
   ],
   "source": [
    "# Import required libraries\n",
    "import pandas as pd\n",
    "import matplotlib.pyplot as plt\n",
    "import seaborn as sns\n",
    "from datetime import datetime\n",
    "\n",
    "# Define category mappings\n",
    "MERCHANT_CATEGORIES = {\n",
    "    # Coffee & Quick Food\n",
    "    'Tim Hortons': 'Coffee',\n",
    "    'Starbucks': 'Coffee',\n",
    "    'Second Cup': 'Coffee',\n",
    "    \n",
    "    # Restaurants\n",
    "    'Tst-Globol': 'Restaurant',\n",
    "    'Pizza Pizza': 'Restaurant',\n",
    "    'Pizza Hut': 'Restaurant',\n",
    "    'McDonalds': 'Restaurant',\n",
    "    \n",
    "    # Shopping\n",
    "    'AMAZON': 'Shopping',\n",
    "    'Walmart': 'Shopping',\n",
    "    'Costco': 'Shopping',\n",
    "    \n",
    "    # Bills & Utilities\n",
    "    'RENT': 'Housing',\n",
    "    'HYDRO': 'Utilities',\n",
    "    'ROGERS': 'Utilities',\n",
    "    'BELL': 'Utilities'\n",
    "}\n",
    "\n",
    "# Function to load and preprocess data\n",
    "def load_transactions(file_path):\n",
    "    df = pd.read_csv(file_path)\n",
    "    df['date'] = pd.to_datetime(df['date'])\n",
    "    df['amount'] = pd.to_numeric(df['amount'].str.replace('$', ''), errors='coerce')\n",
    "    \n",
    "    # Add category column based on description matching\n",
    "    df['category'] = df['description'].apply(\n",
    "        lambda x: next((MERCHANT_CATEGORIES[merchant] \n",
    "                       for merchant in MERCHANT_CATEGORIES \n",
    "                       if merchant.lower() in x.lower()), 'Other')\n",
    "    )\n",
    "    return df\n",
    "\n",
    "# Function to analyze spending by category\n",
    "def analyze_spending_by_category(df):\n",
    "    # Filter for expenses (negative amounts)\n",
    "    expenses_df = df[df['amount'] < 0].copy()\n",
    "    expenses_df['amount'] = expenses_df['amount'].abs()  # Make amounts positive for easier reading\n",
    "    \n",
    "    # Group by category\n",
    "    category_summary = expenses_df.groupby('category').agg({\n",
    "        'amount': ['sum', 'mean', 'count']\n",
    "    }).round(2)\n",
    "    \n",
    "    return category_summary\n",
    "\n",
    "# Function to analyze specific merchant spending (e.g., Tim Hortons)\n",
    "def analyze_merchant_spending(df, merchant_name):\n",
    "    merchant_df = df[df['description'].str.contains(merchant_name, case=False)].copy()\n",
    "    merchant_df['amount'] = merchant_df['amount'].abs()\n",
    "    \n",
    "    monthly_spending = merchant_df.groupby(merchant_df['date'].dt.strftime('%Y-%m'))['amount'].agg([\n",
    "        'sum', 'count', 'mean'\n",
    "    ]).round(2)\n",
    "    \n",
    "    return monthly_spending\n",
    "\n",
    "# Function to visualize spending patterns\n",
    "def plot_spending_analysis(df):\n",
    "    expenses_df = df[df['amount'] < 0].copy()\n",
    "    expenses_df['amount'] = expenses_df['amount'].abs()\n",
    "    \n",
    "    plt.figure(figsize=(15, 12))\n",
    "    \n",
    "    # Monthly spending by category\n",
    "    plt.subplot(2, 1, 1)\n",
    "    monthly_by_category = expenses_df.pivot_table(\n",
    "        index=expenses_df['date'].dt.strftime('%Y-%m'),\n",
    "        columns='category',\n",
    "        values='amount',\n",
    "        aggfunc='sum'\n",
    "    ).fillna(0)\n",
    "    monthly_by_category.plot(kind='bar', stacked=True)\n",
    "    plt.title('Monthly Spending by Category')\n",
    "    plt.xlabel('Month')\n",
    "    plt.ylabel('Amount ($)')\n",
    "    plt.xticks(rotation=45)\n",
    "    plt.legend(bbox_to_anchor=(1.05, 1), loc='upper left')\n",
    "    \n",
    "    # Pie chart of total spending by category\n",
    "    plt.subplot(2, 1, 2)\n",
    "    category_totals = expenses_df.groupby('category')['amount'].sum()\n",
    "    plt.pie(category_totals, labels=category_totals.index, autopct='%1.1f%%')\n",
    "    plt.title('Total Spending Distribution by Category')\n",
    "    \n",
    "    plt.tight_layout()\n",
    "    plt.show()\n",
    "\n",
    "# Main execution\n",
    "def main():\n",
    "    # Load the data\n",
    "    file_path = 'your_transactions.csv'  # Replace with your file path\n",
    "    df = load_transactions(file_path)\n",
    "    \n",
    "    # Overall category analysis\n",
    "    category_summary = analyze_spending_by_category(df)\n",
    "    print(\"\\nSpending by Category:\")\n",
    "    print(category_summary)\n",
    "    \n",
    "    # Tim Hortons specific analysis\n",
    "    tim_hortons_summary = analyze_merchant_spending(df, 'Tim Hortons')\n",
    "    print(\"\\nTim Hortons Spending:\")\n",
    "    print(tim_hortons_summary)\n",
    "    \n",
    "    # Visualize the data\n",
    "    plot_spending_analysis(df)\n",
    "\n",
    "if __name__ == \"__main__\":\n",
    "    main()"
   ]
  },
  {
   "cell_type": "code",
   "execution_count": 2,
   "metadata": {},
   "outputs": [
    {
     "ename": "NameError",
     "evalue": "name 'load_transactions' is not defined",
     "output_type": "error",
     "traceback": [
      "\u001b[0;31m---------------------------------------------------------------------------\u001b[0m",
      "\u001b[0;31mNameError\u001b[0m                                 Traceback (most recent call last)",
      "Cell \u001b[0;32mIn[2], line 1\u001b[0m\n\u001b[0;32m----> 1\u001b[0m df \u001b[38;5;241m=\u001b[39m \u001b[43mload_transactions\u001b[49m(\u001b[38;5;124m\"\u001b[39m\u001b[38;5;124m./billing/2024-11.csv\u001b[39m\u001b[38;5;124m\"\u001b[39m)\n",
      "\u001b[0;31mNameError\u001b[0m: name 'load_transactions' is not defined"
     ]
    }
   ],
   "source": [
    "df = load_transactions(\"./billing/2024-11.csv\")\n"
   ]
  },
  {
   "cell_type": "code",
   "execution_count": null,
   "metadata": {},
   "outputs": [],
   "source": []
  }
 ],
 "metadata": {
  "kernelspec": {
   "display_name": "Python 3",
   "language": "python",
   "name": "python3"
  },
  "language_info": {
   "codemirror_mode": {
    "name": "ipython",
    "version": 3
   },
   "file_extension": ".py",
   "mimetype": "text/x-python",
   "name": "python",
   "nbconvert_exporter": "python",
   "pygments_lexer": "ipython3",
   "version": "3.9.6"
  }
 },
 "nbformat": 4,
 "nbformat_minor": 2
}
